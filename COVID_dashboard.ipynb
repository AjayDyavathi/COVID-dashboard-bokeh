{
  "cells": [
    {
      "cell_type": "code",
      "execution_count": 1,
      "metadata": {
        "id": "Lk9dq164AXgu"
      },
      "outputs": [],
      "source": [
        "import pandas as pd\n",
        "import geopandas as gpd"
      ]
    },
    {
      "cell_type": "code",
      "execution_count": 2,
      "metadata": {
        "colab": {
          "base_uri": "https://localhost:8080/",
          "height": 112
        },
        "id": "ipwJJTft_Qlf",
        "outputId": "b3ebb39c-a24f-4b62-db6c-17302d8654f9",
        "pycharm": {
          "name": "#%%\n"
        }
      },
      "outputs": [
        {
          "data": {
            "text/html": [
              "<div>\n",
              "<style scoped>\n",
              "    .dataframe tbody tr th:only-of-type {\n",
              "        vertical-align: middle;\n",
              "    }\n",
              "\n",
              "    .dataframe tbody tr th {\n",
              "        vertical-align: top;\n",
              "    }\n",
              "\n",
              "    .dataframe thead th {\n",
              "        text-align: right;\n",
              "    }\n",
              "</style>\n",
              "<table border=\"1\" class=\"dataframe\">\n",
              "  <thead>\n",
              "    <tr style=\"text-align: right;\">\n",
              "      <th></th>\n",
              "      <th>Date_reported</th>\n",
              "      <th>Country_code</th>\n",
              "      <th>Country</th>\n",
              "      <th>WHO_region</th>\n",
              "      <th>New_cases</th>\n",
              "      <th>Cumulative_cases</th>\n",
              "      <th>New_deaths</th>\n",
              "      <th>Cumulative_deaths</th>\n",
              "    </tr>\n",
              "  </thead>\n",
              "  <tbody>\n",
              "    <tr>\n",
              "      <th>0</th>\n",
              "      <td>2020-01-03</td>\n",
              "      <td>AF</td>\n",
              "      <td>Afghanistan</td>\n",
              "      <td>EMRO</td>\n",
              "      <td>0</td>\n",
              "      <td>0</td>\n",
              "      <td>0</td>\n",
              "      <td>0</td>\n",
              "    </tr>\n",
              "    <tr>\n",
              "      <th>1</th>\n",
              "      <td>2020-01-04</td>\n",
              "      <td>AF</td>\n",
              "      <td>Afghanistan</td>\n",
              "      <td>EMRO</td>\n",
              "      <td>0</td>\n",
              "      <td>0</td>\n",
              "      <td>0</td>\n",
              "      <td>0</td>\n",
              "    </tr>\n",
              "  </tbody>\n",
              "</table>\n",
              "</div>"
            ],
            "text/plain": [
              "  Date_reported Country_code      Country WHO_region  New_cases  \\\n",
              "0    2020-01-03           AF  Afghanistan       EMRO          0   \n",
              "1    2020-01-04           AF  Afghanistan       EMRO          0   \n",
              "\n",
              "   Cumulative_cases  New_deaths  Cumulative_deaths  \n",
              "0                 0           0                  0  \n",
              "1                 0           0                  0  "
            ]
          },
          "execution_count": 2,
          "metadata": {},
          "output_type": "execute_result"
        }
      ],
      "source": [
        "cases = pd.read_csv(\"WHO-COVID-19-global-data.csv\")\n",
        "vaccines = pd.read_csv(\"vaccination-data.csv\")\n",
        "cases.head(2)"
      ]
    },
    {
      "cell_type": "code",
      "execution_count": 3,
      "metadata": {},
      "outputs": [
        {
          "data": {
            "text/html": [
              "<div>\n",
              "<style scoped>\n",
              "    .dataframe tbody tr th:only-of-type {\n",
              "        vertical-align: middle;\n",
              "    }\n",
              "\n",
              "    .dataframe tbody tr th {\n",
              "        vertical-align: top;\n",
              "    }\n",
              "\n",
              "    .dataframe thead th {\n",
              "        text-align: right;\n",
              "    }\n",
              "</style>\n",
              "<table border=\"1\" class=\"dataframe\">\n",
              "  <thead>\n",
              "    <tr style=\"text-align: right;\">\n",
              "      <th></th>\n",
              "      <th>COUNTRY</th>\n",
              "      <th>ISO3</th>\n",
              "      <th>WHO_REGION</th>\n",
              "      <th>DATA_SOURCE</th>\n",
              "      <th>DATE_UPDATED</th>\n",
              "      <th>TOTAL_VACCINATIONS</th>\n",
              "      <th>PERSONS_VACCINATED_1PLUS_DOSE</th>\n",
              "      <th>TOTAL_VACCINATIONS_PER100</th>\n",
              "      <th>PERSONS_VACCINATED_1PLUS_DOSE_PER100</th>\n",
              "      <th>PERSONS_FULLY_VACCINATED</th>\n",
              "      <th>PERSONS_FULLY_VACCINATED_PER100</th>\n",
              "      <th>VACCINES_USED</th>\n",
              "      <th>FIRST_VACCINE_DATE</th>\n",
              "      <th>NUMBER_VACCINES_TYPES_USED</th>\n",
              "      <th>PERSONS_BOOSTER_ADD_DOSE</th>\n",
              "      <th>PERSONS_BOOSTER_ADD_DOSE_PER100</th>\n",
              "    </tr>\n",
              "  </thead>\n",
              "  <tbody>\n",
              "    <tr>\n",
              "      <th>0</th>\n",
              "      <td>Afghanistan</td>\n",
              "      <td>AFG</td>\n",
              "      <td>EMRO</td>\n",
              "      <td>REPORTING</td>\n",
              "      <td>2023-04-24</td>\n",
              "      <td>16844011.0</td>\n",
              "      <td>14732514</td>\n",
              "      <td>43.269</td>\n",
              "      <td>37.845</td>\n",
              "      <td>14018650</td>\n",
              "      <td>36.011</td>\n",
              "      <td>AstraZeneca - Vaxzevria,Beijing CNBG - BBIBP-C...</td>\n",
              "      <td>2021-02-22</td>\n",
              "      <td>11.0</td>\n",
              "      <td>1077102.0</td>\n",
              "      <td>2.767</td>\n",
              "    </tr>\n",
              "    <tr>\n",
              "      <th>1</th>\n",
              "      <td>Albania</td>\n",
              "      <td>ALB</td>\n",
              "      <td>EURO</td>\n",
              "      <td>REPORTING</td>\n",
              "      <td>2023-03-19</td>\n",
              "      <td>3070468.0</td>\n",
              "      <td>1347054</td>\n",
              "      <td>106.700</td>\n",
              "      <td>47.332</td>\n",
              "      <td>1276432</td>\n",
              "      <td>44.851</td>\n",
              "      <td>AstraZeneca - Vaxzevria,Gamaleya - Gam-Covid-V...</td>\n",
              "      <td>2021-01-13</td>\n",
              "      <td>5.0</td>\n",
              "      <td>395384.0</td>\n",
              "      <td>13.893</td>\n",
              "    </tr>\n",
              "  </tbody>\n",
              "</table>\n",
              "</div>"
            ],
            "text/plain": [
              "       COUNTRY ISO3 WHO_REGION DATA_SOURCE DATE_UPDATED  TOTAL_VACCINATIONS  \\\n",
              "0  Afghanistan  AFG       EMRO   REPORTING   2023-04-24          16844011.0   \n",
              "1      Albania  ALB       EURO   REPORTING   2023-03-19           3070468.0   \n",
              "\n",
              "   PERSONS_VACCINATED_1PLUS_DOSE  TOTAL_VACCINATIONS_PER100  \\\n",
              "0                       14732514                     43.269   \n",
              "1                        1347054                    106.700   \n",
              "\n",
              "   PERSONS_VACCINATED_1PLUS_DOSE_PER100  PERSONS_FULLY_VACCINATED  \\\n",
              "0                                37.845                  14018650   \n",
              "1                                47.332                   1276432   \n",
              "\n",
              "   PERSONS_FULLY_VACCINATED_PER100  \\\n",
              "0                           36.011   \n",
              "1                           44.851   \n",
              "\n",
              "                                       VACCINES_USED FIRST_VACCINE_DATE  \\\n",
              "0  AstraZeneca - Vaxzevria,Beijing CNBG - BBIBP-C...         2021-02-22   \n",
              "1  AstraZeneca - Vaxzevria,Gamaleya - Gam-Covid-V...         2021-01-13   \n",
              "\n",
              "   NUMBER_VACCINES_TYPES_USED  PERSONS_BOOSTER_ADD_DOSE  \\\n",
              "0                        11.0                 1077102.0   \n",
              "1                         5.0                  395384.0   \n",
              "\n",
              "   PERSONS_BOOSTER_ADD_DOSE_PER100  \n",
              "0                            2.767  \n",
              "1                           13.893  "
            ]
          },
          "execution_count": 3,
          "metadata": {},
          "output_type": "execute_result"
        }
      ],
      "source": [
        "vaccines.head(2)"
      ]
    },
    {
      "attachments": {},
      "cell_type": "markdown",
      "metadata": {},
      "source": [
        "## Data Preprocessing"
      ]
    },
    {
      "cell_type": "code",
      "execution_count": 4,
      "metadata": {},
      "outputs": [],
      "source": [
        "vaccines.columns = vaccines.columns.map(str.title)"
      ]
    },
    {
      "cell_type": "code",
      "execution_count": 5,
      "metadata": {
        "id": "j-Gb6_ag_Qlo",
        "pycharm": {
          "name": "#%%\n"
        }
      },
      "outputs": [],
      "source": [
        "# Renaming country names to be compatible across files.\n",
        "\n",
        "replacements = {\"Russian Federation\": \"Russia\",\n",
        "                \"Iran (Islamic Republic of)\": \"Iran\",\n",
        "                \"Türkiye\": \"Turkey\",\n",
        "                \"The United Kingdom\": \"United Kingdom\",\n",
        "                \"Republic of Korea\": \"South Korea\",\n",
        "                \"Democratic People's Republic of Korea\":\"North Korea\",\n",
        "                \"Viet Nam\": \"Vietnam\",\n",
        "                \"Bolivia (Plurinational State of)\" : \"Bolivia\",\n",
        "                \"Venezuela (Bolivarian Republic of)\":\"Venezuela\",\n",
        "                }\n",
        "\n",
        "cases.replace({\"Country\": replacements}, inplace=True)\n",
        "vaccines.replace({\"Country\": replacements}, inplace=True)"
      ]
    },
    {
      "cell_type": "code",
      "execution_count": 6,
      "metadata": {
        "colab": {
          "base_uri": "https://localhost:8080/",
          "height": 112
        },
        "id": "kOmwtt10_Qlp",
        "outputId": "7954dd64-78cb-4a47-d2aa-5031043e6b9a",
        "pycharm": {
          "name": "#%%\n"
        }
      },
      "outputs": [
        {
          "data": {
            "text/html": [
              "<div>\n",
              "<style scoped>\n",
              "    .dataframe tbody tr th:only-of-type {\n",
              "        vertical-align: middle;\n",
              "    }\n",
              "\n",
              "    .dataframe tbody tr th {\n",
              "        vertical-align: top;\n",
              "    }\n",
              "\n",
              "    .dataframe thead th {\n",
              "        text-align: right;\n",
              "    }\n",
              "</style>\n",
              "<table border=\"1\" class=\"dataframe\">\n",
              "  <thead>\n",
              "    <tr style=\"text-align: right;\">\n",
              "      <th></th>\n",
              "      <th>Country</th>\n",
              "      <th>geometry</th>\n",
              "    </tr>\n",
              "  </thead>\n",
              "  <tbody>\n",
              "    <tr>\n",
              "      <th>0</th>\n",
              "      <td>Costa Rica</td>\n",
              "      <td>MULTIPOLYGON (((-83.69650 10.93659, -83.68687 ...</td>\n",
              "    </tr>\n",
              "    <tr>\n",
              "      <th>1</th>\n",
              "      <td>Nicaragua</td>\n",
              "      <td>MULTIPOLYGON (((-85.70174 11.08088, -85.70242 ...</td>\n",
              "    </tr>\n",
              "  </tbody>\n",
              "</table>\n",
              "</div>"
            ],
            "text/plain": [
              "      Country                                           geometry\n",
              "0  Costa Rica  MULTIPOLYGON (((-83.69650 10.93659, -83.68687 ...\n",
              "1   Nicaragua  MULTIPOLYGON (((-85.70174 11.08088, -85.70242 ..."
            ]
          },
          "execution_count": 6,
          "metadata": {},
          "output_type": "execute_result"
        }
      ],
      "source": [
        "# Shapefile, it contains info about boundaries\n",
        "shapefile = \"custom.geo.json\"\n",
        "# Reading the shapefile\n",
        "gdf = gpd.read_file(shapefile)\n",
        "# Subsetting the shape file\n",
        "gdf = gdf[[\"admin\", \"geometry\"]].copy()\n",
        "# Renaming accordingly\n",
        "gdf.rename(columns={'admin': 'Country'}, inplace=True)\n",
        "gdf.head(2)"
      ]
    },
    {
      "cell_type": "code",
      "execution_count": 7,
      "metadata": {
        "colab": {
          "base_uri": "https://localhost:8080/",
          "height": 143
        },
        "id": "kRMp4Dh4_Qlp",
        "outputId": "9d17c948-d619-4a01-e9ae-6eb0dbca3ea0",
        "pycharm": {
          "name": "#%%\n"
        }
      },
      "outputs": [
        {
          "data": {
            "text/html": [
              "<div>\n",
              "<style scoped>\n",
              "    .dataframe tbody tr th:only-of-type {\n",
              "        vertical-align: middle;\n",
              "    }\n",
              "\n",
              "    .dataframe tbody tr th {\n",
              "        vertical-align: top;\n",
              "    }\n",
              "\n",
              "    .dataframe thead th {\n",
              "        text-align: right;\n",
              "    }\n",
              "</style>\n",
              "<table border=\"1\" class=\"dataframe\">\n",
              "  <thead>\n",
              "    <tr style=\"text-align: right;\">\n",
              "      <th></th>\n",
              "      <th>Country</th>\n",
              "      <th>Total_cases</th>\n",
              "      <th>Total_deaths</th>\n",
              "    </tr>\n",
              "  </thead>\n",
              "  <tbody>\n",
              "    <tr>\n",
              "      <th>0</th>\n",
              "      <td>Afghanistan</td>\n",
              "      <td>214112</td>\n",
              "      <td>7888</td>\n",
              "    </tr>\n",
              "    <tr>\n",
              "      <th>1</th>\n",
              "      <td>Albania</td>\n",
              "      <td>334090</td>\n",
              "      <td>3604</td>\n",
              "    </tr>\n",
              "    <tr>\n",
              "      <th>2</th>\n",
              "      <td>Algeria</td>\n",
              "      <td>271673</td>\n",
              "      <td>6881</td>\n",
              "    </tr>\n",
              "  </tbody>\n",
              "</table>\n",
              "</div>"
            ],
            "text/plain": [
              "       Country  Total_cases  Total_deaths\n",
              "0  Afghanistan       214112          7888\n",
              "1      Albania       334090          3604\n",
              "2      Algeria       271673          6881"
            ]
          },
          "execution_count": 7,
          "metadata": {},
          "output_type": "execute_result"
        }
      ],
      "source": [
        "cases_deaths = cases.groupby(\"Country\").agg({\"New_cases\": \"sum\", \"New_deaths\": \"sum\"}).reset_index()\n",
        "cases_deaths.rename(columns={'New_cases': \"Total_cases\", 'New_deaths': \"Total_deaths\"}, inplace=True)\n",
        "cases_deaths.head(3)"
      ]
    },
    {
      "cell_type": "code",
      "execution_count": 8,
      "metadata": {
        "colab": {
          "base_uri": "https://localhost:8080/",
          "height": 112
        },
        "id": "QeUF4tQq_Qlq",
        "outputId": "210b85dc-d7f8-4e9b-8e91-4b0da4582e14",
        "pycharm": {
          "name": "#%%\n"
        }
      },
      "outputs": [
        {
          "data": {
            "text/html": [
              "<div>\n",
              "<style scoped>\n",
              "    .dataframe tbody tr th:only-of-type {\n",
              "        vertical-align: middle;\n",
              "    }\n",
              "\n",
              "    .dataframe tbody tr th {\n",
              "        vertical-align: top;\n",
              "    }\n",
              "\n",
              "    .dataframe thead th {\n",
              "        text-align: right;\n",
              "    }\n",
              "</style>\n",
              "<table border=\"1\" class=\"dataframe\">\n",
              "  <thead>\n",
              "    <tr style=\"text-align: right;\">\n",
              "      <th></th>\n",
              "      <th>Country</th>\n",
              "      <th>Total_Vaccinations</th>\n",
              "      <th>Total_Vaccinations_Per100</th>\n",
              "    </tr>\n",
              "  </thead>\n",
              "  <tbody>\n",
              "    <tr>\n",
              "      <th>0</th>\n",
              "      <td>Afghanistan</td>\n",
              "      <td>16844011.0</td>\n",
              "      <td>43.269</td>\n",
              "    </tr>\n",
              "    <tr>\n",
              "      <th>1</th>\n",
              "      <td>Albania</td>\n",
              "      <td>3070468.0</td>\n",
              "      <td>106.700</td>\n",
              "    </tr>\n",
              "  </tbody>\n",
              "</table>\n",
              "</div>"
            ],
            "text/plain": [
              "       Country  Total_Vaccinations  Total_Vaccinations_Per100\n",
              "0  Afghanistan          16844011.0                     43.269\n",
              "1      Albania           3070468.0                    106.700"
            ]
          },
          "execution_count": 8,
          "metadata": {},
          "output_type": "execute_result"
        }
      ],
      "source": [
        "# Subsetting vaccine dataset to contain only requried information\n",
        "vax = vaccines[[\"Country\", \"Total_Vaccinations\", \"Total_Vaccinations_Per100\"]].copy()\n",
        "vax.head(2)"
      ]
    },
    {
      "cell_type": "code",
      "execution_count": 9,
      "metadata": {
        "colab": {
          "base_uri": "https://localhost:8080/"
        },
        "id": "bDr_DSYHCyRg",
        "outputId": "34e5425e-9237-4904-ec52-c7711b6d7db8"
      },
      "outputs": [
        {
          "data": {
            "text/plain": [
              "(237, 5)"
            ]
          },
          "execution_count": 9,
          "metadata": {},
          "output_type": "execute_result"
        }
      ],
      "source": [
        "fulldata = cases_deaths.merge(vax, on=[\"Country\"], how=\"left\")\n",
        "fulldata.shape"
      ]
    },
    {
      "cell_type": "code",
      "execution_count": 10,
      "metadata": {
        "colab": {
          "base_uri": "https://localhost:8080/"
        },
        "id": "Z-kFn81f_Qlq",
        "outputId": "6bf72da9-eff7-4332-c0b3-1ae4082e1b38",
        "pycharm": {
          "name": "#%%\n"
        }
      },
      "outputs": [
        {
          "data": {
            "text/plain": [
              "(248, 6)"
            ]
          },
          "execution_count": 10,
          "metadata": {},
          "output_type": "execute_result"
        }
      ],
      "source": [
        "# Merging shape file columns with cases cases_deaths.\n",
        "df = gdf.merge(fulldata, on=\"Country\", how=\"left\")\n",
        "df.shape"
      ]
    },
    {
      "attachments": {},
      "cell_type": "markdown",
      "metadata": {
        "id": "5OwBjrvBD8z1"
      },
      "source": [
        "## Plotting"
      ]
    },
    {
      "cell_type": "code",
      "execution_count": 11,
      "metadata": {
        "id": "-KQ7Up_GFe9B"
      },
      "outputs": [],
      "source": [
        "import numpy as np\n",
        "from bokeh.io import show, output_notebook\n",
        "from bokeh.models import GeoJSONDataSource, HoverTool\n",
        "from bokeh.plotting import figure\n",
        "from bokeh.models import Legend"
      ]
    },
    {
      "cell_type": "code",
      "execution_count": 12,
      "metadata": {},
      "outputs": [
        {
          "data": {
            "text/html": [
              "<style>\n",
              "        .bk-notebook-logo {\n",
              "            display: block;\n",
              "            width: 20px;\n",
              "            height: 20px;\n",
              "            background-image: url(data:image/png;base64,iVBORw0KGgoAAAANSUhEUgAAABQAAAAUCAYAAACNiR0NAAAABHNCSVQICAgIfAhkiAAAAAlwSFlzAAALEgAACxIB0t1+/AAAABx0RVh0U29mdHdhcmUAQWRvYmUgRmlyZXdvcmtzIENTNui8sowAAAOkSURBVDiNjZRtaJVlGMd/1/08zzln5zjP1LWcU9N0NkN8m2CYjpgQYQXqSs0I84OLIC0hkEKoPtiH3gmKoiJDU7QpLgoLjLIQCpEsNJ1vqUOdO7ppbuec5+V+rj4ctwzd8IIbbi6u+8f1539dt3A78eXC7QizUF7gyV1fD1Yqg4JWz84yffhm0qkFqBogB9rM8tZdtwVsPUhWhGcFJngGeWrPzHm5oaMmkfEg1usvLFyc8jLRqDOMru7AyC8saQr7GG7f5fvDeH7Ej8CM66nIF+8yngt6HWaKh7k49Soy9nXurCi1o3qUbS3zWfrYeQDTB/Qj6kX6Ybhw4B+bOYoLKCC9H3Nu/leUTZ1JdRWkkn2ldcCamzrcf47KKXdAJllSlxAOkRgyHsGC/zRday5Qld9DyoM4/q/rUoy/CXh3jzOu3bHUVZeU+DEn8FInkPBFlu3+nW3Nw0mk6vCDiWg8CeJaxEwuHS3+z5RgY+YBR6V1Z1nxSOfoaPa4LASWxxdNp+VWTk7+4vzaou8v8PN+xo+KY2xsw6une2frhw05CTYOmQvsEhjhWjn0bmXPjpE1+kplmmkP3suftwTubK9Vq22qKmrBhpY4jvd5afdRA3wGjFAgcnTK2s4hY0/GPNIb0nErGMCRxWOOX64Z8RAC4oCXdklmEvcL8o0BfkNK4lUg9HTl+oPlQxdNo3Mg4Nv175e/1LDGzZen30MEjRUtmXSfiTVu1kK8W4txyV6BMKlbgk3lMwYCiusNy9fVfvvwMxv8Ynl6vxoByANLTWplvuj/nF9m2+PDtt1eiHPBr1oIfhCChQMBw6Aw0UulqTKZdfVvfG7VcfIqLG9bcldL/+pdWTLxLUy8Qq38heUIjh4XlzZxzQm19lLFlr8vdQ97rjZVOLf8nclzckbcD4wxXMidpX30sFd37Fv/GtwwhzhxGVAprjbg0gCAEeIgwCZyTV2Z1REEW8O4py0wsjeloKoMr6iCY6dP92H6Vw/oTyICIthibxjm/DfN9lVz8IqtqKYLUXfoKVMVQVVJOElGjrnnUt9T9wbgp8AyYKaGlqingHZU/uG2NTZSVqwHQTWkx9hxjkpWDaCg6Ckj5qebgBVbT3V3NNXMSiWSDdGV3hrtzla7J+duwPOToIg42ChPQOQjspnSlp1V+Gjdged7+8UN5CRAV7a5EdFNwCjEaBR27b3W890TE7g24NAP/mMDXRWrGoFPQI9ls/MWO2dWFAar/xcOIImbbpA3zgAAAABJRU5ErkJggg==);\n",
              "        }\n",
              "    </style>\n",
              "    <div>\n",
              "        <a href=\"https://bokeh.org\" target=\"_blank\" class=\"bk-notebook-logo\"></a>\n",
              "        <span id=\"p1001\">Loading BokehJS ...</span>\n",
              "    </div>\n"
            ]
          },
          "metadata": {},
          "output_type": "display_data"
        },
        {
          "data": {
            "application/javascript": "(function(root) {\n  function now() {\n    return new Date();\n  }\n\n  const force = true;\n\n  if (typeof root._bokeh_onload_callbacks === \"undefined\" || force === true) {\n    root._bokeh_onload_callbacks = [];\n    root._bokeh_is_loading = undefined;\n  }\n\nconst JS_MIME_TYPE = 'application/javascript';\n  const HTML_MIME_TYPE = 'text/html';\n  const EXEC_MIME_TYPE = 'application/vnd.bokehjs_exec.v0+json';\n  const CLASS_NAME = 'output_bokeh rendered_html';\n\n  /**\n   * Render data to the DOM node\n   */\n  function render(props, node) {\n    const script = document.createElement(\"script\");\n    node.appendChild(script);\n  }\n\n  /**\n   * Handle when an output is cleared or removed\n   */\n  function handleClearOutput(event, handle) {\n    const cell = handle.cell;\n\n    const id = cell.output_area._bokeh_element_id;\n    const server_id = cell.output_area._bokeh_server_id;\n    // Clean up Bokeh references\n    if (id != null && id in Bokeh.index) {\n      Bokeh.index[id].model.document.clear();\n      delete Bokeh.index[id];\n    }\n\n    if (server_id !== undefined) {\n      // Clean up Bokeh references\n      const cmd_clean = \"from bokeh.io.state import curstate; print(curstate().uuid_to_server['\" + server_id + \"'].get_sessions()[0].document.roots[0]._id)\";\n      cell.notebook.kernel.execute(cmd_clean, {\n        iopub: {\n          output: function(msg) {\n            const id = msg.content.text.trim();\n            if (id in Bokeh.index) {\n              Bokeh.index[id].model.document.clear();\n              delete Bokeh.index[id];\n            }\n          }\n        }\n      });\n      // Destroy server and session\n      const cmd_destroy = \"import bokeh.io.notebook as ion; ion.destroy_server('\" + server_id + \"')\";\n      cell.notebook.kernel.execute(cmd_destroy);\n    }\n  }\n\n  /**\n   * Handle when a new output is added\n   */\n  function handleAddOutput(event, handle) {\n    const output_area = handle.output_area;\n    const output = handle.output;\n\n    // limit handleAddOutput to display_data with EXEC_MIME_TYPE content only\n    if ((output.output_type != \"display_data\") || (!Object.prototype.hasOwnProperty.call(output.data, EXEC_MIME_TYPE))) {\n      return\n    }\n\n    const toinsert = output_area.element.find(\".\" + CLASS_NAME.split(' ')[0]);\n\n    if (output.metadata[EXEC_MIME_TYPE][\"id\"] !== undefined) {\n      toinsert[toinsert.length - 1].firstChild.textContent = output.data[JS_MIME_TYPE];\n      // store reference to embed id on output_area\n      output_area._bokeh_element_id = output.metadata[EXEC_MIME_TYPE][\"id\"];\n    }\n    if (output.metadata[EXEC_MIME_TYPE][\"server_id\"] !== undefined) {\n      const bk_div = document.createElement(\"div\");\n      bk_div.innerHTML = output.data[HTML_MIME_TYPE];\n      const script_attrs = bk_div.children[0].attributes;\n      for (let i = 0; i < script_attrs.length; i++) {\n        toinsert[toinsert.length - 1].firstChild.setAttribute(script_attrs[i].name, script_attrs[i].value);\n        toinsert[toinsert.length - 1].firstChild.textContent = bk_div.children[0].textContent\n      }\n      // store reference to server id on output_area\n      output_area._bokeh_server_id = output.metadata[EXEC_MIME_TYPE][\"server_id\"];\n    }\n  }\n\n  function register_renderer(events, OutputArea) {\n\n    function append_mime(data, metadata, element) {\n      // create a DOM node to render to\n      const toinsert = this.create_output_subarea(\n        metadata,\n        CLASS_NAME,\n        EXEC_MIME_TYPE\n      );\n      this.keyboard_manager.register_events(toinsert);\n      // Render to node\n      const props = {data: data, metadata: metadata[EXEC_MIME_TYPE]};\n      render(props, toinsert[toinsert.length - 1]);\n      element.append(toinsert);\n      return toinsert\n    }\n\n    /* Handle when an output is cleared or removed */\n    events.on('clear_output.CodeCell', handleClearOutput);\n    events.on('delete.Cell', handleClearOutput);\n\n    /* Handle when a new output is added */\n    events.on('output_added.OutputArea', handleAddOutput);\n\n    /**\n     * Register the mime type and append_mime function with output_area\n     */\n    OutputArea.prototype.register_mime_type(EXEC_MIME_TYPE, append_mime, {\n      /* Is output safe? */\n      safe: true,\n      /* Index of renderer in `output_area.display_order` */\n      index: 0\n    });\n  }\n\n  // register the mime type if in Jupyter Notebook environment and previously unregistered\n  if (root.Jupyter !== undefined) {\n    const events = require('base/js/events');\n    const OutputArea = require('notebook/js/outputarea').OutputArea;\n\n    if (OutputArea.prototype.mime_types().indexOf(EXEC_MIME_TYPE) == -1) {\n      register_renderer(events, OutputArea);\n    }\n  }\n  if (typeof (root._bokeh_timeout) === \"undefined\" || force === true) {\n    root._bokeh_timeout = Date.now() + 5000;\n    root._bokeh_failed_load = false;\n  }\n\n  const NB_LOAD_WARNING = {'data': {'text/html':\n     \"<div style='background-color: #fdd'>\\n\"+\n     \"<p>\\n\"+\n     \"BokehJS does not appear to have successfully loaded. If loading BokehJS from CDN, this \\n\"+\n     \"may be due to a slow or bad network connection. Possible fixes:\\n\"+\n     \"</p>\\n\"+\n     \"<ul>\\n\"+\n     \"<li>re-rerun `output_notebook()` to attempt to load from CDN again, or</li>\\n\"+\n     \"<li>use INLINE resources instead, as so:</li>\\n\"+\n     \"</ul>\\n\"+\n     \"<code>\\n\"+\n     \"from bokeh.resources import INLINE\\n\"+\n     \"output_notebook(resources=INLINE)\\n\"+\n     \"</code>\\n\"+\n     \"</div>\"}};\n\n  function display_loaded() {\n    const el = document.getElementById(\"p1001\");\n    if (el != null) {\n      el.textContent = \"BokehJS is loading...\";\n    }\n    if (root.Bokeh !== undefined) {\n      if (el != null) {\n        el.textContent = \"BokehJS \" + root.Bokeh.version + \" successfully loaded.\";\n      }\n    } else if (Date.now() < root._bokeh_timeout) {\n      setTimeout(display_loaded, 100)\n    }\n  }\n\n  function run_callbacks() {\n    try {\n      root._bokeh_onload_callbacks.forEach(function(callback) {\n        if (callback != null)\n          callback();\n      });\n    } finally {\n      delete root._bokeh_onload_callbacks\n    }\n    console.debug(\"Bokeh: all callbacks have finished\");\n  }\n\n  function load_libs(css_urls, js_urls, callback) {\n    if (css_urls == null) css_urls = [];\n    if (js_urls == null) js_urls = [];\n\n    root._bokeh_onload_callbacks.push(callback);\n    if (root._bokeh_is_loading > 0) {\n      console.debug(\"Bokeh: BokehJS is being loaded, scheduling callback at\", now());\n      return null;\n    }\n    if (js_urls == null || js_urls.length === 0) {\n      run_callbacks();\n      return null;\n    }\n    console.debug(\"Bokeh: BokehJS not loaded, scheduling load and callback at\", now());\n    root._bokeh_is_loading = css_urls.length + js_urls.length;\n\n    function on_load() {\n      root._bokeh_is_loading--;\n      if (root._bokeh_is_loading === 0) {\n        console.debug(\"Bokeh: all BokehJS libraries/stylesheets loaded\");\n        run_callbacks()\n      }\n    }\n\n    function on_error(url) {\n      console.error(\"failed to load \" + url);\n    }\n\n    for (let i = 0; i < css_urls.length; i++) {\n      const url = css_urls[i];\n      const element = document.createElement(\"link\");\n      element.onload = on_load;\n      element.onerror = on_error.bind(null, url);\n      element.rel = \"stylesheet\";\n      element.type = \"text/css\";\n      element.href = url;\n      console.debug(\"Bokeh: injecting link tag for BokehJS stylesheet: \", url);\n      document.body.appendChild(element);\n    }\n\n    for (let i = 0; i < js_urls.length; i++) {\n      const url = js_urls[i];\n      const element = document.createElement('script');\n      element.onload = on_load;\n      element.onerror = on_error.bind(null, url);\n      element.async = false;\n      element.src = url;\n      console.debug(\"Bokeh: injecting script tag for BokehJS library: \", url);\n      document.head.appendChild(element);\n    }\n  };\n\n  function inject_raw_css(css) {\n    const element = document.createElement(\"style\");\n    element.appendChild(document.createTextNode(css));\n    document.body.appendChild(element);\n  }\n\n  const js_urls = [\"https://cdn.bokeh.org/bokeh/release/bokeh-3.1.0.min.js\", \"https://cdn.bokeh.org/bokeh/release/bokeh-gl-3.1.0.min.js\", \"https://cdn.bokeh.org/bokeh/release/bokeh-widgets-3.1.0.min.js\", \"https://cdn.bokeh.org/bokeh/release/bokeh-tables-3.1.0.min.js\", \"https://cdn.bokeh.org/bokeh/release/bokeh-mathjax-3.1.0.min.js\"];\n  const css_urls = [];\n\n  const inline_js = [    function(Bokeh) {\n      Bokeh.set_log_level(\"info\");\n    },\nfunction(Bokeh) {\n    }\n  ];\n\n  function run_inline_js() {\n    if (root.Bokeh !== undefined || force === true) {\n          for (let i = 0; i < inline_js.length; i++) {\n      inline_js[i].call(root, root.Bokeh);\n    }\nif (force === true) {\n        display_loaded();\n      }} else if (Date.now() < root._bokeh_timeout) {\n      setTimeout(run_inline_js, 100);\n    } else if (!root._bokeh_failed_load) {\n      console.log(\"Bokeh: BokehJS failed to load within specified timeout.\");\n      root._bokeh_failed_load = true;\n    } else if (force !== true) {\n      const cell = $(document.getElementById(\"p1001\")).parents('.cell').data().cell;\n      cell.output_area.append_execute_result(NB_LOAD_WARNING)\n    }\n  }\n\n  if (root._bokeh_is_loading === 0) {\n    console.debug(\"Bokeh: BokehJS loaded, going straight to plotting\");\n    run_inline_js();\n  } else {\n    load_libs(css_urls, js_urls, function() {\n      console.debug(\"Bokeh: BokehJS plotting callback run at\", now());\n      run_inline_js();\n    });\n  }\n}(window));",
            "application/vnd.bokehjs_load.v0+json": ""
          },
          "metadata": {},
          "output_type": "display_data"
        }
      ],
      "source": [
        "output_notebook()"
      ]
    },
    {
      "cell_type": "markdown",
      "metadata": {
        "id": "HBljqSxZEOYs"
      },
      "source": [
        "## Total Cases Information"
      ]
    },
    {
      "cell_type": "code",
      "execution_count": 13,
      "metadata": {
        "id": "5EVeba5e_Qlr",
        "pycharm": {
          "name": "#%%\n"
        }
      },
      "outputs": [],
      "source": [
        "# Define the color range and palette\n",
        "blue_color_palette = {\"0\" : \"#ebe973\",\n",
        "                      \"1 - 5,000\" : \"#8adae3\",\n",
        "                      \"5,001 - 50,000\" : \"#47c8d6\",\n",
        "                      \"50,001 - 500,000\": \"#169ec7\",\n",
        "                      \"500,001 - 5,000,000\" : \"#158aad\", \n",
        "                      \"5,000,000+\" : \"#135a70\",\n",
        "                      \"Not Applicable\" : \"#e6edf0\"}\n",
        "\n",
        "\n",
        "df['Color_cases'] = pd.cut(df['Total_cases'], \n",
        "                            [-np.inf, 0, 5000, 50000, 500000, 5000000, np.inf], \n",
        "                            labels=list(blue_color_palette.values())[:-1]).to_numpy()\n",
        "df['Color_cases'].fillna(blue_color_palette[\"Not Applicable\"],inplace=True)"
      ]
    },
    {
      "cell_type": "code",
      "execution_count": 14,
      "metadata": {},
      "outputs": [],
      "source": [
        "geosource = GeoJSONDataSource(geojson=df.to_json())\n",
        "\n",
        "plot_cases = figure(title=\"Total Covid Cases by Country\",\n",
        "           width=1400, \n",
        "           height=650, \n",
        "           tools=\"wheel_zoom, pan, reset\", \n",
        "           x_axis_type='mercator', \n",
        "           y_axis_type='mercator')\n",
        "\n",
        "plot_cases.toolbar.logo = None\n",
        "plot_cases.toolbar_location = \"above\"\n",
        "plot_cases.xgrid.grid_line_color = None\n",
        "plot_cases.ygrid.grid_line_color = None\n",
        "plot_cases.xaxis.visible = False\n",
        "plot_cases.yaxis.visible = False\n",
        "plot_cases.axis.visible = False\n",
        "\n",
        "patches = plot_cases.patches(\"xs\", \"ys\", \n",
        "                             fill_color=\"Color_cases\", \n",
        "                             line_color=\"black\", \n",
        "                             line_width=0.5, source=geosource)\n",
        "\n",
        "hover_cases = HoverTool(tooltips=[\n",
        "                            (\"Country\", \"@Country\"), \n",
        "                            (\"Total Cases\", \"@Total_cases\"), \n",
        "                            (\"Total Deaths\", \"@Total_deaths\")])\n",
        "plot_cases.add_tools(hover_cases)\n",
        "\n",
        "legend_items = [(label, [plot_cases.square([np.nan], [np.nan], fill_color=color, line_color=\"black\")]) \\\n",
        "                for label, color in blue_color_palette.items()]\n",
        "legend = Legend(items=legend_items, location=\"top_right\", title=\"Total Cases\")\n",
        "plot_cases.add_layout(legend, \"right\")"
      ]
    },
    {
      "cell_type": "markdown",
      "metadata": {
        "id": "9ibDEL7tKwpc"
      },
      "source": [
        "## Total Deaths Information"
      ]
    },
    {
      "cell_type": "code",
      "execution_count": 15,
      "metadata": {},
      "outputs": [],
      "source": [
        "# Define the color range and palette\n",
        "\n",
        "red_color_palette = {\"0\" : \"#e8ccbc\",\n",
        "                     \"1 - 50\" : \"#c26d3c\",\n",
        "                     \"51 - 500\" : \"#ebb494\",\n",
        "                     \"501 - 50,000\": \"#d99066\",\n",
        "                     \"50,001 - 50,0000\" : \"#b35a27\", \n",
        "                     \"50,0000+\" : \"#873404\",\n",
        "                     \"Not Applicable\" :\"#96928f\"}\n",
        "\n",
        "\n",
        "df['Color_deaths'] = pd.cut(df['Total_deaths'], \n",
        "                            [-np.inf, 0, 50, 500, 50000, 500000, np.inf], \n",
        "                            labels=list(red_color_palette.values())[:-1]).to_numpy()\n",
        "df['Color_deaths'].fillna(red_color_palette[\"Not Applicable\"],inplace=True)"
      ]
    },
    {
      "cell_type": "code",
      "execution_count": 16,
      "metadata": {},
      "outputs": [],
      "source": [
        "geosource = GeoJSONDataSource(geojson=df.to_json())\n",
        "\n",
        "plot_deaths = figure(title=\"Total Covid Deaths by Country\",\n",
        "           width=1400, \n",
        "           height=650, \n",
        "           tools=\"wheel_zoom, pan, reset\", \n",
        "           x_axis_type='mercator', \n",
        "           y_axis_type='mercator')\n",
        "\n",
        "plot_deaths.toolbar.logo = None\n",
        "plot_deaths.toolbar_location = \"above\"\n",
        "plot_deaths.xgrid.grid_line_color = None\n",
        "plot_deaths.ygrid.grid_line_color = None\n",
        "plot_deaths.xaxis.visible = False\n",
        "plot_deaths.yaxis.visible = False\n",
        "plot_deaths.axis.visible = False\n",
        "\n",
        "patches = plot_deaths.patches(\"xs\", \"ys\", fill_color=\"Color_deaths\", line_color=\"black\", line_width=0.5, source=geosource)\n",
        "\n",
        "hover_cases = HoverTool(tooltips=[\n",
        "                            (\"Country\", \"@Country\"), \n",
        "                            (\"Total Deaths\", \"@Total_deaths\"),\n",
        "                            (\"Total Cases\", \"@Total_cases\")])\n",
        "plot_deaths.add_tools(hover_cases)\n",
        "\n",
        "from bokeh.models import Legend\n",
        "\n",
        "\n",
        "legend_items = [(label, [plot_deaths.square([np.nan], [np.nan], fill_color=color, line_color=\"black\")]) \\\n",
        "                for label, color in red_color_palette.items()]\n",
        "legend = Legend(items=legend_items, location=\"top_right\", title=\"Total Deaths\")\n",
        "plot_deaths.add_layout(legend, \"right\")"
      ]
    },
    {
      "cell_type": "markdown",
      "metadata": {
        "id": "6e73w6rlNWhK"
      },
      "source": [
        "### Total Vaccinations Information"
      ]
    },
    {
      "cell_type": "code",
      "execution_count": 17,
      "metadata": {},
      "outputs": [],
      "source": [
        "green_color_palette = {\"0 - 10\" : \"#c1f7be\",\n",
        "                      \"10 - 20\" : \"#9ef799\",\n",
        "                      \"20 - 30\" : \"#6ed968\",\n",
        "                      \"30 - 40\" : \"#3f963b\",\n",
        "                      \"40 - 50\" : \"#3ad631\", \n",
        "                      \"50 - 60\" : \"#248f1e\",\n",
        "                      \"60 - 70\" : \"#0f9e08\" ,\n",
        "                      \"70 - 80\" : \"#048508\",\n",
        "                      \"80 - 90\" : \"#045707\",\n",
        "                      \"90 - 100\" : \"#024d05\",\n",
        "                      \"Not Applicable\" : \"#f2faf7\"}\n",
        "\n",
        "\n",
        "df['Color_vax'] = pd.cut(df['Total_Vaccinations_Per100'], \n",
        "                         [-np.inf, 10, 20, 30, 40, 50, 60, 70, 80, 90, np.inf], \n",
        "                         labels=list(green_color_palette.values())[:-1]).to_numpy()\n",
        "df['Color_vax'].fillna(green_color_palette[\"Not Applicable\"],inplace=True)"
      ]
    },
    {
      "cell_type": "code",
      "execution_count": 18,
      "metadata": {},
      "outputs": [],
      "source": [
        "geosource = GeoJSONDataSource(geojson=df.to_json())\n",
        "\n",
        "plot_vax = figure(title=\"Total Covid Vaccinations per 100 by Country\",\n",
        "           width=1400, \n",
        "           height=650, \n",
        "           tools=\"wheel_zoom, pan, reset\", \n",
        "           x_axis_type='mercator', \n",
        "           y_axis_type='mercator')\n",
        "\n",
        "plot_vax.toolbar.logo = None\n",
        "plot_vax.toolbar_location = \"above\"\n",
        "plot_vax.xgrid.grid_line_color = None\n",
        "plot_vax.ygrid.grid_line_color = None\n",
        "plot_vax.xaxis.visible = False\n",
        "plot_vax.yaxis.visible = False\n",
        "plot_vax.axis.visible = False\n",
        "\n",
        "patches = plot_vax.patches(\"xs\", \"ys\", fill_color=\"Color_vax\", line_color=\"black\", line_width=0.5, source=geosource)\n",
        "\n",
        "hover_cases = HoverTool(tooltips=[\n",
        "                            (\"Country\", \"@Country\"), \n",
        "                            (\"Total Vaccinations per 100\", \"@Total_Vaccinations_Per100\")])\n",
        "plot_vax.add_tools(hover_cases)\n",
        "\n",
        "from bokeh.models import Legend\n",
        "\n",
        "\n",
        "legend_items = [(label, [plot_vax.square([np.nan], [np.nan], fill_color=color, line_color=\"black\")]) \\\n",
        "                for label, color in green_color_palette.items()]\n",
        "legend = Legend(items=legend_items, location=\"top_right\", title=\"Total Vaccinations per 100\")\n",
        "plot_vax.add_layout(legend, \"right\")"
      ]
    },
    {
      "cell_type": "code",
      "execution_count": null,
      "metadata": {
        "colab": {
          "base_uri": "https://localhost:8080/",
          "height": 17
        },
        "id": "Kt9pb-hb_Qls",
        "outputId": "02b76451-56db-4de8-a443-17d3746c8af2",
        "pycharm": {
          "name": "#%%\n"
        }
      },
      "outputs": [],
      "source": [
        "from bokeh.layouts import column\n",
        "from bokeh.models import CustomJS, RadioButtonGroup\n",
        "\n",
        "# Define a callback function that toggles the visibility of the plots\n",
        "toggle_plots = CustomJS(args=dict(plot_cases=plot_cases, plot_deaths=plot_deaths, plot_vax=plot_vax), code=\"\"\"\n",
        "    if (cb_obj.active === 0) {\n",
        "        plot_cases.visible = true;\n",
        "        plot_deaths.visible = false;\n",
        "        plot_vax.visible = false;\n",
        "    } else if (cb_obj.active === 1) {\n",
        "        plot_cases.visible = false;\n",
        "        plot_deaths.visible = true;\n",
        "        plot_vax.visible = false;\n",
        "    } else if (cb_obj.active === 2) {\n",
        "        plot_cases.visible = false;\n",
        "        plot_deaths.visible = false;\n",
        "        plot_vax.visible = true;\n",
        "    }\n",
        "\"\"\")\n",
        "\n",
        "# Create a radio button group with two options\n",
        "radio_button_group = RadioButtonGroup(labels=[\"Show Cases\", \"Show Deaths\", \"Show Vaccinations\"], active=0, css_classes=[\"radio\"])\n",
        "\n",
        "# Attach the toggle_plots callback to the radio button group\n",
        "radio_button_group.js_on_change(\"active\", toggle_plots)\n",
        "\n",
        "# Add the radio button group and the plots to a column layout\n",
        "layout = column(radio_button_group, plot_cases, plot_deaths, plot_vax)\n",
        "\n",
        "# Show the layout\n",
        "show(layout)"
      ]
    },
    {
      "cell_type": "code",
      "execution_count": null,
      "metadata": {},
      "outputs": [],
      "source": []
    }
  ],
  "metadata": {
    "colab": {
      "provenance": []
    },
    "kernelspec": {
      "display_name": "Python 3 (ipykernel)",
      "language": "python",
      "name": "python3"
    },
    "language_info": {
      "codemirror_mode": {
        "name": "ipython",
        "version": 3
      },
      "file_extension": ".py",
      "mimetype": "text/x-python",
      "name": "python",
      "nbconvert_exporter": "python",
      "pygments_lexer": "ipython3",
      "version": "3.9.13"
    }
  },
  "nbformat": 4,
  "nbformat_minor": 0
}
